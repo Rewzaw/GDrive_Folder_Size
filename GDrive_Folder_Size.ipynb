{
  "nbformat": 4,
  "nbformat_minor": 0,
  "metadata": {
    "colab": {
      "name": "GDrive_Folder_Size.ipynb",
      "provenance": [],
      "collapsed_sections": [],
      "toc_visible": true,
      "include_colab_link": true
    },
    "kernelspec": {
      "display_name": "Python 3",
      "language": "python",
      "name": "python3"
    },
    "language_info": {
      "codemirror_mode": {
        "name": "ipython",
        "version": 3
      },
      "file_extension": ".py",
      "mimetype": "text/x-python",
      "name": "python",
      "nbconvert_exporter": "python",
      "pygments_lexer": "ipython3",
      "version": "3.7.7"
    }
  },
  "cells": [
    {
      "cell_type": "markdown",
      "metadata": {
        "id": "view-in-github",
        "colab_type": "text"
      },
      "source": [
        "<a href=\"https://colab.research.google.com/github/Rewzaw/GDrive_Folder_Size/blob/master/GDrive_Folder_Size.ipynb\" target=\"_parent\"><img src=\"https://colab.research.google.com/assets/colab-badge.svg\" alt=\"Open In Colab\"/></a>"
      ]
    },
    {
      "cell_type": "code",
      "metadata": {
        "cellView": "form",
        "colab_type": "code",
        "id": "_hpsYhc5hR0o",
        "colab": {}
      },
      "source": [
        "#@markdown <h3>⬅️ Run this Cell to  Mount Gdrive\n",
        "#@markdown <br><center><img src='https://upload.wikimedia.org/wikipedia/commons/thumb/d/da/Google_Drive_logo.png/600px-Google_Drive_logo.png' height=\"110\" alt=\"Gdrive logo\"/></center>\n",
        "\n",
        "MODE = \"MOUNT\" #@param [\"MOUNT\", \"UNMOUNT\"]\n",
        "#Mount your Gdrive! \n",
        "from google.colab import drive\n",
        "drive.mount._DEBUG = False\n",
        "if MODE == \"MOUNT\":\n",
        "  drive.mount('/content/drive', force_remount=True)\n",
        "elif MODE == \"UNMOUNT\":\n",
        "  try:\n",
        "    drive.flush_and_unmount()\n",
        "  except ValueError:\n",
        "    pass\n",
        "  get_ipython().system_raw(\"rm -rf /root/.config/Google/DriveFS\")"
      ],
      "execution_count": null,
      "outputs": []
    },
    {
      "cell_type": "code",
      "metadata": {
        "cellView": "form",
        "colab_type": "code",
        "id": "oTpJougMtrE1",
        "colab": {}
      },
      "source": [
        "#@markdown <h3>⬅️ Run This Cell to get the Individual & Total Size of all Folders inside the Location you just put below\n",
        "\n",
        "import os\n",
        "\n",
        "Location = \"/content/drive/My Drive\" #@param {type:\"string\"}\n",
        "\n",
        "os.chdir(Location)\n",
        "\n",
        "from IPython.display import HTML, clear_output\n",
        "loadingBtn = widgets.Button(description = \"Installing\",\n",
        "                          disabled = True,\n",
        "                          button_style = 'warning', # 'success', 'info', 'warning', 'danger' or '' \n",
        "                          tooltip = \"Installing\",\n",
        "                          icon = 'check')\n",
        "display(loadingBtn)\n",
        "\n",
        "clear_output()\n",
        "\n",
        "display(HTML(\"<center><h2 style=\\\"font-family:Trebuchet MS;color:#4f8bd6;\\\">Successfully Calculated!</h2><br></center>\"))\n",
        "\n",
        "\n",
        "!echo Here are the size of files, folders inside the given location\n",
        "!echo\n",
        "# !echo $(du -shc -- *)\n",
        "!du -shc -- *"
      ],
      "execution_count": null,
      "outputs": []
    }
  ]
}